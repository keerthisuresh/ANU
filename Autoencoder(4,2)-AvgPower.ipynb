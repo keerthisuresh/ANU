{
 "cells": [
  {
   "cell_type": "code",
   "execution_count": 1,
   "metadata": {},
   "outputs": [
    {
     "name": "stderr",
     "output_type": "stream",
     "text": [
      "Using TensorFlow backend.\n"
     ]
    }
   ],
   "source": [
    "# MIT License\n",
    "\n",
    "# Copyright (c) [2019] [Jayden Booth]\n",
    "\n",
    "# Permission is hereby granted, free of charge, to any person obtaining a copy\n",
    "# of this software and associated documentation files (the \"Software\"), to deal\n",
    "# in the Software without restriction, including without limitation the rights\n",
    "# to use, copy, modify, merge, publish, distribute, sublicense, and/or sell\n",
    "# copies of the Software, and to permit persons to whom the Software is\n",
    "# furnished to do so, subject to the following conditions:\n",
    "\n",
    "# The above copyright notice and this permission notice shall be included in all\n",
    "# copies or substantial portions of the Software.\n",
    "\n",
    "# THE SOFTWARE IS PROVIDED \"AS IS\", WITHOUT WARRANTY OF ANY KIND, EXPRESS OR\n",
    "# IMPLIED, INCLUDING BUT NOT LIMITED TO THE WARRANTIES OF MERCHANTABILITY,\n",
    "# FITNESS FOR A PARTICULAR PURPOSE AND NONINFRINGEMENT. IN NO EVENT SHALL THE\n",
    "# AUTHORS OR COPYRIGHT HOLDERS BE LIABLE FOR ANY CLAIM, DAMAGES OR OTHER\n",
    "# LIABILITY, WHETHER IN AN ACTION OF CONTRACT, TORT OR OTHERWISE, ARISING FROM,\n",
    "# OUT OF OR IN CONNECTION WITH THE SOFTWARE OR THE USE OR OTHER DEALINGS IN THE\n",
    "# SOFTWARE.\n",
    "\n",
    "# Import Libraries\n",
    "import numpy as np\n",
    "import tensorflow as tf\n",
    "import keras\n",
    "from keras.layers import Input, Dense, GaussianNoise,Lambda,Dropout, Concatenate\n",
    "from keras.models import Model\n",
    "from keras import regularizers\n",
    "from keras.callbacks import EarlyStopping,Callback,ModelCheckpoint\n",
    "from keras.layers.normalization import BatchNormalization\n",
    "from keras.optimizers import Adam,SGD\n",
    "from keras import backend as K\n",
    "from keras.constraints import max_norm\n",
    "\n",
    "from scipy import special\n",
    "import matplotlib.pyplot as plt\n",
    "%matplotlib inline"
   ]
  },
  {
   "cell_type": "code",
   "execution_count": 2,
   "metadata": {},
   "outputs": [],
   "source": [
    "# Set random seeds\n",
    "from numpy.random import seed\n",
    "seed(1)\n",
    "from tensorflow import set_random_seed\n",
    "set_random_seed(3)"
   ]
  },
  {
   "cell_type": "code",
   "execution_count": 3,
   "metadata": {},
   "outputs": [
    {
     "name": "stdout",
     "output_type": "stream",
     "text": [
      "number of symbols: 16\n"
     ]
    }
   ],
   "source": [
    "# Set the defining parameters\n",
    "# n = n_channel complex numbers (so 2n real numbers)\n",
    "# k = log2(M), where M is the number of messages to encode\n",
    "# EbNo is the energy per bit to noise power density\n",
    "\n",
    "# Encoder Parameters\n",
    "M = 16\n",
    "k = np.log2(M)\n",
    "n_channel = 1\n",
    "#Transmit Power\n",
    "P=1\n",
    "#Power splitting ratio\n",
    "rho = 1\n",
    "#Power loss of splitter\n",
    "eps = 1\n",
    "#variance of antenna noise\n",
    "w = 1\n",
    "#rectifier efficiency\n",
    "eta=1\n",
    "noise_std = 1\n",
    "R = k/n_channel\n",
    "print('number of symbols:',M)\n"
   ]
  },
  {
   "cell_type": "code",
   "execution_count": 12,
   "metadata": {},
   "outputs": [],
   "source": [
    "def set_up_train_nn(P):\n",
    "    N=50000\n",
    "    EbNo_train = 5.01187\n",
    "    label = np.random.randint(M,size=N)\n",
    "    # creating one hot encoded vectors\n",
    "    data = []\n",
    "    for i in label:\n",
    "        temp = np.zeros(M)\n",
    "        temp[i] = 1\n",
    "        data.append(temp)\n",
    "        # checking data shape\n",
    "    data = np.array(data)\n",
    "    print (data.shape)\n",
    "    es = EarlyStopping(monitor='val_loss',patience=5, verbose=1)\n",
    "    #callbacks = [EarlyStoppingByAccuracy(monitor='accuracy', value=0.98, verbose=1)]\n",
    "    # Defined Autoencoder\n",
    "    input_signal = Input(shape=(M,))\n",
    "    encoded = Dense(M, activation='relu')(input_signal)\n",
    "    encoded2 = Dense(2*n_channel, activation='linear')(encoded)\n",
    "\n",
    "    # Normalize Power\n",
    "    encoded3 = BatchNormalization(momentum=0,epsilon=1e-6,center=False,scale=False,axis=1)(encoded2)\n",
    "    encoded3 = Lambda(lambda x: x*np.sqrt(P/2))(encoded3)\n",
    "\n",
    "    #Add antenna noise\n",
    "    encoded5 = Lambda(lambda x: x+K.random_normal_variable((4*4096,2), 0,np.sqrt(1/(2*R*EbNo_train)))[0:tf.shape(x)[0],:])(encoded3)\n",
    "\n",
    "    # Reciever Layer\n",
    "    decoded = Dense(M, activation='relu')(encoded5)\n",
    "    decoded1 = Dense(M, activation='softmax')(decoded)\n",
    "    autoencoder = Model(input_signal, decoded1)\n",
    "\n",
    "    adam = Adam(lr=0.05)\n",
    "    epochs=70\n",
    "    \n",
    "    autoencoder.compile(optimizer=adam, loss='categorical_crossentropy',metrics=['accuracy'])\n",
    "    \n",
    "\n",
    "    # traning auto encoder\n",
    "    history = autoencoder.fit(data, data,epochs=epochs,batch_size=1024,callbacks=[es],validation_split=0.3)\n",
    "    \n",
    "    \n",
    "    # list all data in history\n",
    "    print(history.history.keys())\n",
    "    \n",
    "    results = autoencoder.evaluate(data, data, batch_size=2048)\n",
    "    print('test loss, test acc:', results)\n",
    "    \n",
    "    # making encoder from full autoencoder\n",
    "    encoder = Model(input_signal, encoded3)\n",
    "    \n",
    "    \n",
    "    scatter_plot = []\n",
    "    for i in range(0,M):\n",
    "        temp = np.zeros(M)\n",
    "        temp[i] = 1\n",
    "        scatter_plot.append(encoder.predict(np.expand_dims(temp,axis=0)))\n",
    "    scatter_plot = np.array(scatter_plot)\n",
    "    print (scatter_plot.shape)\n",
    "    \n",
    "    # ploting constellation diagram\n",
    "    \n",
    "    scatter_plot = scatter_plot.reshape(M,2,1)\n",
    "\n",
    "    plt.scatter(scatter_plot[:,0],scatter_plot[:,1])\n",
    "    #plt.axis((-2,2,-2,2))\n",
    "    plt.grid()\n",
    "    #plt.title('Splitting Receiver: rho = '+str(rho)+' P = '+str(P))\n",
    "    plt.xlabel('I Axis')\n",
    "    plt.ylabel('Q Axis')\n",
    "    plt.show()\n",
    "    p_av = np.sum(np.square(scatter_plot),axis=1)\n",
    "    print(sum(p_av)/16)\n",
    "    \n",
    "    return autoencoder"
   ]
  },
  {
   "cell_type": "code",
   "execution_count": 14,
   "metadata": {},
   "outputs": [
    {
     "name": "stdout",
     "output_type": "stream",
     "text": [
      "(50000, 16)\n",
      "Train on 35000 samples, validate on 15000 samples\n",
      "Epoch 1/70\n",
      "35000/35000 [==============================] - 2s 65us/step - loss: 1.1044 - acc: 0.6308 - val_loss: 0.3002 - val_acc: 0.9438\n",
      "Epoch 2/70\n",
      "35000/35000 [==============================] - 0s 6us/step - loss: 0.1258 - acc: 0.9799 - val_loss: 0.1409 - val_acc: 0.9523\n",
      "Epoch 3/70\n",
      "35000/35000 [==============================] - 0s 5us/step - loss: 0.0499 - acc: 0.9899 - val_loss: 0.0619 - val_acc: 0.9826\n",
      "Epoch 4/70\n",
      "35000/35000 [==============================] - 0s 5us/step - loss: 0.0370 - acc: 0.9908 - val_loss: 0.0302 - val_acc: 0.9927\n",
      "Epoch 5/70\n",
      "35000/35000 [==============================] - 0s 5us/step - loss: 0.0310 - acc: 0.9918 - val_loss: 0.0278 - val_acc: 0.9929\n",
      "Epoch 6/70\n",
      "35000/35000 [==============================] - 0s 5us/step - loss: 0.0291 - acc: 0.9912 - val_loss: 0.0559 - val_acc: 0.9801\n",
      "Epoch 7/70\n",
      "35000/35000 [==============================] - 0s 6us/step - loss: 0.0294 - acc: 0.9906 - val_loss: 0.0926 - val_acc: 0.9670\n",
      "Epoch 8/70\n",
      "35000/35000 [==============================] - 0s 6us/step - loss: 0.0272 - acc: 0.9910 - val_loss: 0.0897 - val_acc: 0.9665\n",
      "Epoch 9/70\n",
      "35000/35000 [==============================] - 0s 6us/step - loss: 0.0283 - acc: 0.9899 - val_loss: 0.0451 - val_acc: 0.9839\n",
      "Epoch 10/70\n",
      "35000/35000 [==============================] - 0s 6us/step - loss: 0.0229 - acc: 0.9921 - val_loss: 0.0299 - val_acc: 0.9895\n",
      "Epoch 00010: early stopping\n",
      "dict_keys(['val_loss', 'val_acc', 'loss', 'acc'])\n",
      "50000/50000 [==============================] - 0s 2us/step\n",
      "test loss, test acc: [0.03679961746633053, 0.9869600003623963]\n",
      "(16, 1, 2)\n"
     ]
    },
    {
     "data": {
      "image/png": "[encoded data removed]",
      "text/plain": [
       "<Figure size 432x288 with 1 Axes>"
      ]
     },
     "metadata": {
      "needs_background": "light"
     },
     "output_type": "display_data"
    },
    {
     "name": "stdout",
     "output_type": "stream",
     "text": [
      "[2.0602949]\n"
     ]
    }
   ],
   "source": [
    "# Calculating SER from -4dB to 14dB SNR\n",
    "autoencoder = set_up_train_nn(2)"
   ]
  },
  {
   "cell_type": "code",
   "execution_count": null,
   "metadata": {},
   "outputs": [],
   "source": []
  },
  {
   "cell_type": "code",
   "execution_count": null,
   "metadata": {},
   "outputs": [],
   "source": []
  },
  {
   "cell_type": "code",
   "execution_count": null,
   "metadata": {},
   "outputs": [],
   "source": []
  }
 ],
 "metadata": {
  "kernelspec": {
   "display_name": "Python 3",
   "language": "python",
   "name": "python3"
  },
  "language_info": {
   "codemirror_mode": {
    "name": "ipython",
    "version": 3
   },
   "file_extension": ".py",
   "mimetype": "text/x-python",
   "name": "python",
   "nbconvert_exporter": "python",
   "pygments_lexer": "ipython3",
   "version": "3.7.3"
  }
 },
 "nbformat": 4,
 "nbformat_minor": 2
}
